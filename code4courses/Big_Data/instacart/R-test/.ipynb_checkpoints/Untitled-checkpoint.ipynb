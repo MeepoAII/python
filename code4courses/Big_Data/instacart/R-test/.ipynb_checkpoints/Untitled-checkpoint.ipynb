{
 "cells": [
  {
   "cell_type": "code",
   "execution_count": 2,
   "metadata": {},
   "outputs": [],
   "source": [
    "library(data.table)\n",
    "library(dplyr)\n",
    "library(ggplot2)\n",
    "library(knitr)\n",
    "library(stringr)\n",
    "library(DT)"
   ]
  },
  {
   "cell_type": "code",
   "execution_count": 4,
   "metadata": {},
   "outputs": [
    {
     "ename": "ERROR",
     "evalue": "Error in fread(\"../dataset/bike/orders.csv\"): File '../dataset/bike/orders.csv' does not exist or is non-readable. getwd()=='/home/lab-1/PycharmProjects/PrivateCode/postgraduate/code4courses/Big_Data/instacart/R-test'\n",
     "output_type": "error",
     "traceback": [
      "Error in fread(\"../dataset/bike/orders.csv\"): File '../dataset/bike/orders.csv' does not exist or is non-readable. getwd()=='/home/lab-1/PycharmProjects/PrivateCode/postgraduate/code4courses/Big_Data/instacart/R-test'\nTraceback:\n",
      "1. fread(\"../dataset/bike/orders.csv\")",
      "2. stop(\"File '\", file, \"' does not exist or is non-readable. getwd()=='\", \n .     getwd(), \"'\")"
     ]
    }
   ],
   "source": [
    "orders <- fread('../../dataset/orders.csv')\n",
    "products <- fread('../../dataset/products.csv')\n",
    "order_products <- fread('../../dataset/order_products__train.csv')\n",
    "order_products_prior <- fread('../../dataset/order_products__prior.csv')\n",
    "aisles <- fread('../../dataset/aisles.csv')\n",
    "departments <- fread('../../dataset/departments.csv')"
   ]
  },
  {
   "cell_type": "code",
   "execution_count": null,
   "metadata": {},
   "outputs": [],
   "source": []
  }
 ],
 "metadata": {
  "kernelspec": {
   "display_name": "R",
   "language": "R",
   "name": "ir"
  },
  "language_info": {
   "codemirror_mode": "r",
   "file_extension": ".r",
   "mimetype": "text/x-r-source",
   "name": "R",
   "pygments_lexer": "r",
   "version": "3.6.1"
  }
 },
 "nbformat": 4,
 "nbformat_minor": 2
}
