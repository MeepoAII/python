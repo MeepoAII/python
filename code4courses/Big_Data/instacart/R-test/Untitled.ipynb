{
 "cells": [
  {
   "cell_type": "code",
   "execution_count": 2,
   "metadata": {},
   "outputs": [],
   "source": [
    "library(data.table)\n",
    "library(dplyr)\n",
    "library(ggplot2)\n",
    "library(knitr)\n",
    "library(stringr)\n",
    "library(DT)"
   ]
  },
  {
   "cell_type": "code",
   "execution_count": 5,
   "metadata": {},
   "outputs": [],
   "source": [
    "orders <- fread('../../dataset/orders.csv')\n",
    "products <- fread('../../dataset/products.csv')\n",
    "order_products <- fread('../../dataset/order_products__train.csv')\n",
    "order_products_prior <- fread('../../dataset/order_products__prior.csv')\n",
    "aisles <- fread('../../dataset/aisles.csv')\n",
    "departments <- fread('../../dataset/departments.csv')"
   ]
  },
  {
   "cell_type": "code",
   "execution_count": 6,
   "metadata": {},
   "outputs": [
    {
     "data": {
      "text/plain": [
       "\n",
       "\n",
       "| order_id| user_id|eval_set | order_number| order_dow| order_hour_of_day| days_since_prior_order|\n",
       "|--------:|-------:|:--------|------------:|---------:|-----------------:|----------------------:|\n",
       "|  2539329|       1|prior    |            1|         2|                 8|                     NA|\n",
       "|  2398795|       1|prior    |            2|         3|                 7|                     15|\n",
       "|   473747|       1|prior    |            3|         3|                12|                     21|\n",
       "|  2254736|       1|prior    |            4|         4|                 7|                     29|\n",
       "|   431534|       1|prior    |            5|         4|                15|                     28|\n",
       "|  3367565|       1|prior    |            6|         2|                 7|                     19|\n",
       "|   550135|       1|prior    |            7|         1|                 9|                     20|\n",
       "|  3108588|       1|prior    |            8|         1|                14|                     14|\n",
       "|  2295261|       1|prior    |            9|         1|                16|                      0|\n",
       "|  2550362|       1|prior    |           10|         4|                 8|                     30|\n",
       "|  1187899|       1|train    |           11|         4|                 8|                     14|\n",
       "|  2168274|       2|prior    |            1|         2|                11|                     NA|"
      ]
     },
     "metadata": {},
     "output_type": "display_data"
    }
   ],
   "source": [
    "kable(head(orders, 12))"
   ]
  },
  {
   "cell_type": "code",
   "execution_count": null,
   "metadata": {},
   "outputs": [],
   "source": []
  }
 ],
 "metadata": {
  "kernelspec": {
   "display_name": "R",
   "language": "R",
   "name": "ir"
  },
  "language_info": {
   "codemirror_mode": "r",
   "file_extension": ".r",
   "mimetype": "text/x-r-source",
   "name": "R",
   "pygments_lexer": "r",
   "version": "3.6.1"
  }
 },
 "nbformat": 4,
 "nbformat_minor": 2
}
